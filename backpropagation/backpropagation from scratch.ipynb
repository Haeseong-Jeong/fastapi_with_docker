{
 "cells": [
  {
   "cell_type": "code",
   "execution_count": 1,
   "id": "774aad29-93d1-4559-a67f-25f629983edc",
   "metadata": {},
   "outputs": [],
   "source": [
    "import math\n",
    "import numpy as np\n",
    "import matplotlib.pyplot as plt\n",
    "%matplotlib inline"
   ]
  },
  {
   "cell_type": "markdown",
   "id": "cfe50176-92a7-463b-a416-1a7b2e4d573d",
   "metadata": {},
   "source": [
    "# 1. 기울기 계산 법"
   ]
  },
  {
   "cell_type": "markdown",
   "id": "6deace6d-1299-42a8-b911-f41a003d16d8",
   "metadata": {},
   "source": [
    "### 임의의 수식"
   ]
  },
  {
   "cell_type": "code",
   "execution_count": 2,
   "id": "54ba9f5d-d8f0-4ec0-ade2-721e5c5fd561",
   "metadata": {},
   "outputs": [],
   "source": [
    "def f(x):\n",
    "    return 3* x**2 - 4*x +5"
   ]
  },
  {
   "cell_type": "code",
   "execution_count": 3,
   "id": "d3731691-0541-4d1e-8854-53346ae716a1",
   "metadata": {},
   "outputs": [
    {
     "data": {
      "text/plain": [
       "20.0"
      ]
     },
     "execution_count": 3,
     "metadata": {},
     "output_type": "execute_result"
    }
   ],
   "source": [
    "f(3.0)"
   ]
  },
  {
   "cell_type": "code",
   "execution_count": 4,
   "id": "23d5fcf6-a561-472a-a1ec-5968df55b061",
   "metadata": {},
   "outputs": [
    {
     "data": {
      "image/png": "[encoded data removed]",
      "text/plain": [
       "<Figure size 640x480 with 1 Axes>"
      ]
     },
     "metadata": {},
     "output_type": "display_data"
    }
   ],
   "source": [
    "x_list = np.arange(-5,5,0.25)\n",
    "y_list = f(x_list)\n",
    "plt.plot(x_list, y_list);"
   ]
  },
  {
   "cell_type": "markdown",
   "id": "ed77a5f4-6f16-4730-8103-9f64d9e315ce",
   "metadata": {},
   "source": [
    "---"
   ]
  },
  {
   "cell_type": "markdown",
   "id": "52a32039-7a6f-4114-8242-bf34e02d53b7",
   "metadata": {},
   "source": [
    "미분을 한다면....\n",
    "\n",
    "위 수식 grad = 6x -4\n",
    "\n",
    "grad(4) = 6*4 - 4 = 20\n"
   ]
  },
  {
   "cell_type": "markdown",
   "id": "7b24e562-bd90-48b3-9184-a8f0c1edcc6e",
   "metadata": {},
   "source": [
    "---"
   ]
  },
  {
   "cell_type": "markdown",
   "id": "37538c4f-938c-4bc4-850e-88d3ea5609dc",
   "metadata": {},
   "source": [
    "직접 기울기를 계산해보자\n",
    "\n",
    "h가 매우 작으면 그 지점의 기울기를 뜻한다...(적당한 h로 기울기를 계산)"
   ]
  },
  {
   "cell_type": "code",
   "execution_count": 5,
   "id": "ee6aac36-2fbe-4d0b-8eb2-10690d7ea834",
   "metadata": {},
   "outputs": [
    {
     "data": {
      "text/plain": [
       "20.000000375830496"
      ]
     },
     "execution_count": 5,
     "metadata": {},
     "output_type": "execute_result"
    }
   ],
   "source": [
    "h = 0.0000001\n",
    "x = 4\n",
    "\n",
    "slope = (f(x+h) - f(x))/h\n",
    "slope"
   ]
  },
  {
   "cell_type": "markdown",
   "id": "64caca86-8407-4f77-b33c-03763ab0cda2",
   "metadata": {},
   "source": [
    "### 신경망 수식으로 다시 해보자"
   ]
  },
  {
   "cell_type": "code",
   "execution_count": 6,
   "id": "798596c7-9c77-47d9-8dec-f853c5556e5a",
   "metadata": {},
   "outputs": [
    {
     "name": "stdout",
     "output_type": "stream",
     "text": [
      "4.0\n"
     ]
    }
   ],
   "source": [
    "x = 2.0\n",
    "w = -3.0\n",
    "b = 10.0\n",
    "\n",
    "y = w*x + b\n",
    "print(y)"
   ]
  },
  {
   "cell_type": "code",
   "execution_count": 8,
   "id": "e9e7f6d3-b222-454a-97e4-62b7d73f121d",
   "metadata": {},
   "outputs": [
    {
     "name": "stdout",
     "output_type": "stream",
     "text": [
      "y = wx + b ==> -3.0x +10.0, (x = 2)\n",
      "----------------------------------------\n",
      "y_pred_1 = 4.0\n",
      "y_pred_2 = 3.997\n",
      "slope(== w) = -3.0000000000001137\n",
      "----------------------------------------\n",
      "y_pred_1 = 4.0\n",
      "y_pred_2 = 4.002\n",
      "slope(== x) = 1.9999999999997797\n",
      "----------------------------------------\n",
      "y_pred_1 = 4.0\n",
      "y_pred_2 = 4.0009999999999994\n",
      "slope(== 상수항) = 0.9999999999994458\n",
      "----------------------------------------\n"
     ]
    }
   ],
   "source": [
    "# \n",
    "h = 0.001\n",
    "\n",
    "x = 2.0\n",
    "w = -3.0\n",
    "b = 10.0\n",
    "\n",
    "print(f\"y = wx + b ==> {(w)}x +{b}, (x = 2)\")\n",
    "print('-'*40)\n",
    "\n",
    "\n",
    "y_pred_1 = w*x + b\n",
    "x += h\n",
    "y_pred_2 = w*x + b\n",
    "x -= h\n",
    "\n",
    "print('y_pred_1 =', y_pred_1)\n",
    "print('y_pred_2 =', y_pred_2)\n",
    "print('slope(== w) =', (y_pred_2-y_pred_1)/h)\n",
    "print('-'*40)\n",
    "\n",
    "\n",
    "y_pred_1 = w*x + b\n",
    "w += h\n",
    "y_pred_2 = w*x + b\n",
    "w -= h\n",
    "\n",
    "print('y_pred_1 =', y_pred_1)\n",
    "print('y_pred_2 =', y_pred_2)\n",
    "print('slope(== x) =', (y_pred_2-y_pred_1)/h)\n",
    "print('-'*40)\n",
    "\n",
    "\n",
    "y_pred_1 = w*x + b\n",
    "b += h\n",
    "y_pred_2 = w*x + b\n",
    "b -= h\n",
    "\n",
    "print('y_pred_1 =', y_pred_1)\n",
    "print('y_pred_2 =', y_pred_2)\n",
    "print('slope(== 상수항) =', (y_pred_2-y_pred_1)/h)\n",
    "print('-'*40)"
   ]
  },
  {
   "cell_type": "markdown",
   "id": "00190251-2b20-4a18-a65c-18092a6ea499",
   "metadata": {},
   "source": [
    "# 2. 신경망 공부를 위한 클래스 구현"
   ]
  },
  {
   "cell_type": "markdown",
   "id": "71f854d0-daac-4bcd-800d-3ca7b2bbd698",
   "metadata": {},
   "source": [
    "lambda는 쓰고 버리는 일시적인 함수이다. (lambda는 런타임에 생성해서 사용할 수 있는 '익명 함수' 이다)\n",
    "\n",
    "즉, 간단한 기능을 일반적인 함수와 같이 정의해두고 쓰는 것이 아니고 \n",
    "\n",
    "필요한 곳에서 즉시 사용하고 버릴 수 있기 때문에 코드가 간결해지고 메모리가 절약된다.\n",
    "\n",
    "클래스 생성자로 아무것도 안하는 빈 lambda함수를 선언하고 밑에서 함수를 정의한다. \n",
    "\n",
    "> 굳이 왜? \n",
    "\n",
    "> 여기서 backward는 add, mul 에 따라 달라지기 때문에 이렇게 구현하는게 좋을 수도...!"
   ]
  },
  {
   "cell_type": "code",
   "execution_count": 56,
   "id": "a2b06844-7ec5-4c84-b285-08ff5d109eb2",
   "metadata": {},
   "outputs": [],
   "source": [
    "import numpy as np\n",
    "\n",
    "class Value:\n",
    "    def __init__(self, data, _children=(), _op='', label=\"\"):\n",
    "        self.data = data\n",
    "        self.grad = 0.0\n",
    "        self._backward = lambda:None # 맨 처음 아무 것도 수행하지 않는 단순한 함수로 정의하고싶음. 그래서 빈 람다가 필요, 나중에 함수를 정의하고 사용!\n",
    "        self._prev = set(_children) # 계산에 사용된 숫자를 나타냄.\n",
    "        self._op = _op              # 계산에 사용된 기호를 나타냄\n",
    "        self.label = label          # data의 label\n",
    "\n",
    "    def __repr__(self):\n",
    "        return f\"Value(data={self.data})\"\n",
    "\n",
    "    def __add__(self, other):\n",
    "        out = Value(self.data + other.data, (self, other), '+')\n",
    "\n",
    "        def _backward():\n",
    "            # 이전 노드의(즉, 계산 후 노드) gard * 1\n",
    "            self.grad = out.grad * 1\n",
    "            other.grad = out.grad * 1\n",
    "        out._backward = _backward()\n",
    "        \n",
    "        return out\n",
    "\n",
    "    def __mul__(self, other):\n",
    "        out = Value(self.data * other.data, (self, other), '*')\n",
    "\n",
    "        def _backward():\n",
    "            # 이전 노드의(즉, 계산 후 노드) gard * 계산에 쓰인 상대값\n",
    "            self.grad = out.grad * other.data\n",
    "            other.grad = out.grad * self.data\n",
    "        out._backward = _backward()\n",
    "        \n",
    "        return out\n",
    "\n",
    "    def tanh(self):\n",
    "        x = self.data\n",
    "        t = (math.exp(2*x) - 1)/(math.exp(2*x) + 1)\n",
    "        out = Value(t,(self,), 'tanh')\n",
    "\n",
    "        def _backward():\n",
    "            # tanh의 미분 값 * 이전 노드의(즉, 계산 후 노드) gard\n",
    "            self.grad = (1 - t**2) * out.grad\n",
    "            other.grad = self.data * out.grad\n",
    "        out._backward = _backward()\n",
    "\n",
    "        return out\n",
    "\n",
    "    def np_tanh(self):\n",
    "        n = self.data\n",
    "        t = np.tanh(n)\n",
    "        out =  Value(t,(self,), 'np_tanh')\n",
    "        return out\n"
   ]
  },
  {
   "cell_type": "markdown",
   "id": "402ea855-2d34-4ba4-b578-f7ddc2a265b1",
   "metadata": {},
   "source": [
    "### 순전파 그래프로 표현하기"
   ]
  },
  {
   "cell_type": "code",
   "execution_count": 42,
   "id": "1dd6da8f-0733-4904-95ab-e1567f3cc75a",
   "metadata": {},
   "outputs": [],
   "source": [
    "#!pip install graphviz (안됨;)\n",
    "#conda install python-graphviz"
   ]
  },
  {
   "cell_type": "code",
   "execution_count": 43,
   "id": "1b2d6370-a02e-41a8-8b28-222000991081",
   "metadata": {},
   "outputs": [],
   "source": [
    "from graphviz import Digraph\n",
    "\n",
    "def trace(root):\n",
    "    # 순전파 노드, 엣지 표현\n",
    "    nodes, edges = set(), set()\n",
    "\n",
    "    def build(value):\n",
    "        if value not in nodes:  # 지금 value가 노드에 없으면 \n",
    "            nodes.add(value)    # nodes에 넣어라\n",
    "            for child in value._prev:        # value계산에 사용된 다른 숫자들\n",
    "                edges.add((child, value))    # edges에 (지금 value의 child, 지금 value) 튜플을 넣어라\n",
    "                build(child)                 # build 함수 반복 \n",
    "                \n",
    "    build(root)\n",
    "    return nodes, edges\n",
    "\n",
    "def draw_dot(root):      #root_node == 마지막 계산값을 의미? 마지막 노드?\n",
    "    dot = Digraph(format='svg', graph_attr={'rankdir':'LR'}) # LR = left to rignt, L -> R\n",
    "\n",
    "    nodes, edges = trace(root)   # 모든 계산 value 추적해서 nodes, edges로 반환\n",
    "\n",
    "    for n in nodes:\n",
    "        uid = str(id(n)) # id 함수는 인자로 객체를 입력 받고, 입력 받은 그 객체의 고유 주소 값을 반환하는 함수 \n",
    "\n",
    "        # 값마다 사각형 노드로 표현\n",
    "        dot.node(name = uid, label = \"{ %s | data %.3f | grad %.3f }\" % (n.label, n.data, n.grad), shape='record')\n",
    "        if n._op:\n",
    "            # 만약 어떤 기호로 계산 됬다면 사각형 노드를 하나 만들어라\n",
    "            dot.node(name = uid + n._op, label = n._op)\n",
    "            # 그리고 선을 이어라\n",
    "            dot.edge(uid + n._op, uid)\n",
    "\n",
    "    for n1, n2 in edges:\n",
    "        # n1, n2 == (지금 value의 child, 지금 value)\n",
    "        dot.edge(str(id(n1)), str(id(n2)) + n2._op)\n",
    "        \n",
    "    return dot\n"
   ]
  },
  {
   "cell_type": "markdown",
   "id": "855c28b9-feab-41de-865b-8af859299a09",
   "metadata": {},
   "source": [
    "# 3. 수동 역전파 예시 1 (간단한 수식)"
   ]
  },
  {
   "cell_type": "code",
   "execution_count": 57,
   "id": "3ed12ebb-8c88-463b-82d2-f4a17101a872",
   "metadata": {},
   "outputs": [
    {
     "name": "stdout",
     "output_type": "stream",
     "text": [
      "Value(data=-8.0)\n",
      "{Value(data=4.0), Value(data=-2.0)}\n",
      "*\n"
     ]
    }
   ],
   "source": [
    "a = Value(2.0, label='a')\n",
    "b = Value(-3.0, label='b')\n",
    "c = Value(10.0, label='c')\n",
    "\n",
    "e = a*b; e.label = 'e'\n",
    "d = e + c; d.label = 'd'\n",
    "\n",
    "f = Value(-2.0, label='f')\n",
    "L = d*f; L.label=\"L\"\n",
    "print(L)\n",
    "print(L._prev)\n",
    "print(L._op)"
   ]
  },
  {
   "cell_type": "code",
   "execution_count": 58,
   "id": "315e7eef-5a89-4321-9d04-a913def07d2c",
   "metadata": {},
   "outputs": [
    {
     "data": {
      "text/plain": [
       "({Value(data=-2.0),\n",
       "  Value(data=-3.0),\n",
       "  Value(data=-6.0),\n",
       "  Value(data=-8.0),\n",
       "  Value(data=10.0),\n",
       "  Value(data=2.0),\n",
       "  Value(data=4.0)},\n",
       " {(Value(data=-2.0), Value(data=-8.0)),\n",
       "  (Value(data=-3.0), Value(data=-6.0)),\n",
       "  (Value(data=-6.0), Value(data=4.0)),\n",
       "  (Value(data=10.0), Value(data=4.0)),\n",
       "  (Value(data=2.0), Value(data=-6.0)),\n",
       "  (Value(data=4.0), Value(data=-8.0))})"
      ]
     },
     "execution_count": 58,
     "metadata": {},
     "output_type": "execute_result"
    }
   ],
   "source": [
    "trace(L)"
   ]
  },
  {
   "cell_type": "code",
   "execution_count": 59,
   "id": "71086bf8-beab-47a2-abfe-7a779d5e351c",
   "metadata": {},
   "outputs": [
    {
     "data": {
      "image/svg+xml": [
       "<?xml version=\"1.0\" encoding=\"UTF-8\" standalone=\"no\"?>\n",
       "<!DOCTYPE svg PUBLIC \"-//W3C//DTD SVG 1.1//EN\"\n",
       " \"http://www.w3.org/Graphics/SVG/1.1/DTD/svg11.dtd\">\n",
       "<!-- Generated by graphviz version 2.50.0 (0)\n",
       " -->\n",
       "<!-- Pages: 1 -->\n",
       "<svg width=\"1092pt\" height=\"154pt\"\n",
       " viewBox=\"0.00 0.00 1092.00 154.00\" xmlns=\"http://www.w3.org/2000/svg\" xmlns:xlink=\"http://www.w3.org/1999/xlink\">\n",
       "<g id=\"graph0\" class=\"graph\" transform=\"scale(1 1) rotate(0) translate(4 150)\">\n",
       "<polygon fill=\"white\" stroke=\"transparent\" points=\"-4,4 -4,-150 1088,-150 1088,4 -4,4\"/>\n",
       "<!-- 1745333581856 -->\n",
       "<g id=\"node1\" class=\"node\">\n",
       "<title>1745333581856</title>\n",
       "<polygon fill=\"none\" stroke=\"black\" points=\"303,-27.5 303,-63.5 479,-63.5 479,-27.5 303,-27.5\"/>\n",
       "<text text-anchor=\"middle\" x=\"314.5\" y=\"-41.8\" font-family=\"Times New Roman,serif\" font-size=\"14.00\">e</text>\n",
       "<polyline fill=\"none\" stroke=\"black\" points=\"326,-27.5 326,-63.5 \"/>\n",
       "<text text-anchor=\"middle\" x=\"365\" y=\"-41.8\" font-family=\"Times New Roman,serif\" font-size=\"14.00\">data &#45;6.000</text>\n",
       "<polyline fill=\"none\" stroke=\"black\" points=\"404,-27.5 404,-63.5 \"/>\n",
       "<text text-anchor=\"middle\" x=\"441.5\" y=\"-41.8\" font-family=\"Times New Roman,serif\" font-size=\"14.00\">grad 0.000</text>\n",
       "</g>\n",
       "<!-- 1745333582768+ -->\n",
       "<g id=\"node6\" class=\"node\">\n",
       "<title>1745333582768+</title>\n",
       "<ellipse fill=\"none\" stroke=\"black\" cx=\"543\" cy=\"-72.5\" rx=\"27\" ry=\"18\"/>\n",
       "<text text-anchor=\"middle\" x=\"543\" y=\"-68.8\" font-family=\"Times New Roman,serif\" font-size=\"14.00\">+</text>\n",
       "</g>\n",
       "<!-- 1745333581856&#45;&gt;1745333582768+ -->\n",
       "<g id=\"edge4\" class=\"edge\">\n",
       "<title>1745333581856&#45;&gt;1745333582768+</title>\n",
       "<path fill=\"none\" stroke=\"black\" d=\"M479.26,-61.21C488.86,-62.94 498.19,-64.61 506.6,-66.13\"/>\n",
       "<polygon fill=\"black\" stroke=\"black\" points=\"506.23,-69.62 516.69,-67.94 507.47,-62.73 506.23,-69.62\"/>\n",
       "</g>\n",
       "<!-- 1745333581856* -->\n",
       "<g id=\"node2\" class=\"node\">\n",
       "<title>1745333581856*</title>\n",
       "<ellipse fill=\"none\" stroke=\"black\" cx=\"239\" cy=\"-45.5\" rx=\"27\" ry=\"18\"/>\n",
       "<text text-anchor=\"middle\" x=\"239\" y=\"-41.8\" font-family=\"Times New Roman,serif\" font-size=\"14.00\">*</text>\n",
       "</g>\n",
       "<!-- 1745333581856*&#45;&gt;1745333581856 -->\n",
       "<g id=\"edge1\" class=\"edge\">\n",
       "<title>1745333581856*&#45;&gt;1745333581856</title>\n",
       "<path fill=\"none\" stroke=\"black\" d=\"M266.13,-45.5C273.98,-45.5 283.09,-45.5 292.75,-45.5\"/>\n",
       "<polygon fill=\"black\" stroke=\"black\" points=\"292.98,-49 302.98,-45.5 292.98,-42 292.98,-49\"/>\n",
       "</g>\n",
       "<!-- 1745333581376 -->\n",
       "<g id=\"node3\" class=\"node\">\n",
       "<title>1745333581376</title>\n",
       "<polygon fill=\"none\" stroke=\"black\" points=\"0,-55.5 0,-91.5 176,-91.5 176,-55.5 0,-55.5\"/>\n",
       "<text text-anchor=\"middle\" x=\"11.5\" y=\"-69.8\" font-family=\"Times New Roman,serif\" font-size=\"14.00\">b</text>\n",
       "<polyline fill=\"none\" stroke=\"black\" points=\"23,-55.5 23,-91.5 \"/>\n",
       "<text text-anchor=\"middle\" x=\"62\" y=\"-69.8\" font-family=\"Times New Roman,serif\" font-size=\"14.00\">data &#45;3.000</text>\n",
       "<polyline fill=\"none\" stroke=\"black\" points=\"101,-55.5 101,-91.5 \"/>\n",
       "<text text-anchor=\"middle\" x=\"138.5\" y=\"-69.8\" font-family=\"Times New Roman,serif\" font-size=\"14.00\">grad 0.000</text>\n",
       "</g>\n",
       "<!-- 1745333581376&#45;&gt;1745333581856* -->\n",
       "<g id=\"edge7\" class=\"edge\">\n",
       "<title>1745333581376&#45;&gt;1745333581856*</title>\n",
       "<path fill=\"none\" stroke=\"black\" d=\"M176.11,-57.13C185.51,-55.36 194.64,-53.65 202.86,-52.1\"/>\n",
       "<polygon fill=\"black\" stroke=\"black\" points=\"203.58,-55.53 212.76,-50.24 202.29,-48.65 203.58,-55.53\"/>\n",
       "</g>\n",
       "<!-- 1745333583008 -->\n",
       "<g id=\"node4\" class=\"node\">\n",
       "<title>1745333583008</title>\n",
       "<polygon fill=\"none\" stroke=\"black\" points=\"302,-82.5 302,-118.5 480,-118.5 480,-82.5 302,-82.5\"/>\n",
       "<text text-anchor=\"middle\" x=\"313.5\" y=\"-96.8\" font-family=\"Times New Roman,serif\" font-size=\"14.00\">c</text>\n",
       "<polyline fill=\"none\" stroke=\"black\" points=\"325,-82.5 325,-118.5 \"/>\n",
       "<text text-anchor=\"middle\" x=\"365\" y=\"-96.8\" font-family=\"Times New Roman,serif\" font-size=\"14.00\">data 10.000</text>\n",
       "<polyline fill=\"none\" stroke=\"black\" points=\"405,-82.5 405,-118.5 \"/>\n",
       "<text text-anchor=\"middle\" x=\"442.5\" y=\"-96.8\" font-family=\"Times New Roman,serif\" font-size=\"14.00\">grad 0.000</text>\n",
       "</g>\n",
       "<!-- 1745333583008&#45;&gt;1745333582768+ -->\n",
       "<g id=\"edge6\" class=\"edge\">\n",
       "<title>1745333583008&#45;&gt;1745333582768+</title>\n",
       "<path fill=\"none\" stroke=\"black\" d=\"M480.12,-84.05C489.54,-82.29 498.67,-80.59 506.9,-79.05\"/>\n",
       "<polygon fill=\"black\" stroke=\"black\" points=\"507.6,-82.48 516.79,-77.21 506.32,-75.6 507.6,-82.48\"/>\n",
       "</g>\n",
       "<!-- 1745333582768 -->\n",
       "<g id=\"node5\" class=\"node\">\n",
       "<title>1745333582768</title>\n",
       "<polygon fill=\"none\" stroke=\"black\" points=\"607,-54.5 607,-90.5 779,-90.5 779,-54.5 607,-54.5\"/>\n",
       "<text text-anchor=\"middle\" x=\"618.5\" y=\"-68.8\" font-family=\"Times New Roman,serif\" font-size=\"14.00\">d</text>\n",
       "<polyline fill=\"none\" stroke=\"black\" points=\"630,-54.5 630,-90.5 \"/>\n",
       "<text text-anchor=\"middle\" x=\"667\" y=\"-68.8\" font-family=\"Times New Roman,serif\" font-size=\"14.00\">data 4.000</text>\n",
       "<polyline fill=\"none\" stroke=\"black\" points=\"704,-54.5 704,-90.5 \"/>\n",
       "<text text-anchor=\"middle\" x=\"741.5\" y=\"-68.8\" font-family=\"Times New Roman,serif\" font-size=\"14.00\">grad 0.000</text>\n",
       "</g>\n",
       "<!-- 1745333583344* -->\n",
       "<g id=\"node10\" class=\"node\">\n",
       "<title>1745333583344*</title>\n",
       "<ellipse fill=\"none\" stroke=\"black\" cx=\"843\" cy=\"-99.5\" rx=\"27\" ry=\"18\"/>\n",
       "<text text-anchor=\"middle\" x=\"843\" y=\"-95.8\" font-family=\"Times New Roman,serif\" font-size=\"14.00\">*</text>\n",
       "</g>\n",
       "<!-- 1745333582768&#45;&gt;1745333583344* -->\n",
       "<g id=\"edge9\" class=\"edge\">\n",
       "<title>1745333582768&#45;&gt;1745333583344*</title>\n",
       "<path fill=\"none\" stroke=\"black\" d=\"M779.23,-88.05C788.81,-89.8 798.13,-91.5 806.54,-93.03\"/>\n",
       "<polygon fill=\"black\" stroke=\"black\" points=\"806.17,-96.52 816.64,-94.87 807.43,-89.63 806.17,-96.52\"/>\n",
       "</g>\n",
       "<!-- 1745333582768+&#45;&gt;1745333582768 -->\n",
       "<g id=\"edge2\" class=\"edge\">\n",
       "<title>1745333582768+&#45;&gt;1745333582768</title>\n",
       "<path fill=\"none\" stroke=\"black\" d=\"M570.12,-72.5C577.94,-72.5 587.01,-72.5 596.61,-72.5\"/>\n",
       "<polygon fill=\"black\" stroke=\"black\" points=\"596.77,-76 606.77,-72.5 596.77,-69 596.77,-76\"/>\n",
       "</g>\n",
       "<!-- 1745331830208 -->\n",
       "<g id=\"node7\" class=\"node\">\n",
       "<title>1745331830208</title>\n",
       "<polygon fill=\"none\" stroke=\"black\" points=\"606,-109.5 606,-145.5 780,-145.5 780,-109.5 606,-109.5\"/>\n",
       "<text text-anchor=\"middle\" x=\"616.5\" y=\"-123.8\" font-family=\"Times New Roman,serif\" font-size=\"14.00\">f</text>\n",
       "<polyline fill=\"none\" stroke=\"black\" points=\"627,-109.5 627,-145.5 \"/>\n",
       "<text text-anchor=\"middle\" x=\"666\" y=\"-123.8\" font-family=\"Times New Roman,serif\" font-size=\"14.00\">data &#45;2.000</text>\n",
       "<polyline fill=\"none\" stroke=\"black\" points=\"705,-109.5 705,-145.5 \"/>\n",
       "<text text-anchor=\"middle\" x=\"742.5\" y=\"-123.8\" font-family=\"Times New Roman,serif\" font-size=\"14.00\">grad 0.000</text>\n",
       "</g>\n",
       "<!-- 1745331830208&#45;&gt;1745333583344* -->\n",
       "<g id=\"edge5\" class=\"edge\">\n",
       "<title>1745331830208&#45;&gt;1745333583344*</title>\n",
       "<path fill=\"none\" stroke=\"black\" d=\"M780.09,-111.21C789.48,-109.44 798.6,-107.71 806.83,-106.15\"/>\n",
       "<polygon fill=\"black\" stroke=\"black\" points=\"807.56,-109.58 816.73,-104.28 806.25,-102.7 807.56,-109.58\"/>\n",
       "</g>\n",
       "<!-- 1745333582816 -->\n",
       "<g id=\"node8\" class=\"node\">\n",
       "<title>1745333582816</title>\n",
       "<polygon fill=\"none\" stroke=\"black\" points=\"2,-0.5 2,-36.5 174,-36.5 174,-0.5 2,-0.5\"/>\n",
       "<text text-anchor=\"middle\" x=\"13.5\" y=\"-14.8\" font-family=\"Times New Roman,serif\" font-size=\"14.00\">a</text>\n",
       "<polyline fill=\"none\" stroke=\"black\" points=\"25,-0.5 25,-36.5 \"/>\n",
       "<text text-anchor=\"middle\" x=\"62\" y=\"-14.8\" font-family=\"Times New Roman,serif\" font-size=\"14.00\">data 2.000</text>\n",
       "<polyline fill=\"none\" stroke=\"black\" points=\"99,-0.5 99,-36.5 \"/>\n",
       "<text text-anchor=\"middle\" x=\"136.5\" y=\"-14.8\" font-family=\"Times New Roman,serif\" font-size=\"14.00\">grad 0.000</text>\n",
       "</g>\n",
       "<!-- 1745333582816&#45;&gt;1745333581856* -->\n",
       "<g id=\"edge8\" class=\"edge\">\n",
       "<title>1745333582816&#45;&gt;1745333581856*</title>\n",
       "<path fill=\"none\" stroke=\"black\" d=\"M174.38,-33.97C184.36,-35.78 194.08,-37.54 202.8,-39.12\"/>\n",
       "<polygon fill=\"black\" stroke=\"black\" points=\"202.41,-42.61 212.88,-40.95 203.66,-35.72 202.41,-42.61\"/>\n",
       "</g>\n",
       "<!-- 1745333583344 -->\n",
       "<g id=\"node9\" class=\"node\">\n",
       "<title>1745333583344</title>\n",
       "<polygon fill=\"none\" stroke=\"black\" points=\"906,-81.5 906,-117.5 1084,-117.5 1084,-81.5 906,-81.5\"/>\n",
       "<text text-anchor=\"middle\" x=\"918.5\" y=\"-95.8\" font-family=\"Times New Roman,serif\" font-size=\"14.00\">L</text>\n",
       "<polyline fill=\"none\" stroke=\"black\" points=\"931,-81.5 931,-117.5 \"/>\n",
       "<text text-anchor=\"middle\" x=\"970\" y=\"-95.8\" font-family=\"Times New Roman,serif\" font-size=\"14.00\">data &#45;8.000</text>\n",
       "<polyline fill=\"none\" stroke=\"black\" points=\"1009,-81.5 1009,-117.5 \"/>\n",
       "<text text-anchor=\"middle\" x=\"1046.5\" y=\"-95.8\" font-family=\"Times New Roman,serif\" font-size=\"14.00\">grad 0.000</text>\n",
       "</g>\n",
       "<!-- 1745333583344*&#45;&gt;1745333583344 -->\n",
       "<g id=\"edge3\" class=\"edge\">\n",
       "<title>1745333583344*&#45;&gt;1745333583344</title>\n",
       "<path fill=\"none\" stroke=\"black\" d=\"M870.13,-99.5C877.65,-99.5 886.33,-99.5 895.54,-99.5\"/>\n",
       "<polygon fill=\"black\" stroke=\"black\" points=\"895.7,-103 905.7,-99.5 895.7,-96 895.7,-103\"/>\n",
       "</g>\n",
       "</g>\n",
       "</svg>\n"
      ],
      "text/plain": [
       "<graphviz.graphs.Digraph at 0x1965de22d90>"
      ]
     },
     "execution_count": 59,
     "metadata": {},
     "output_type": "execute_result"
    }
   ],
   "source": [
    "draw_dot(L)"
   ]
  },
  {
   "cell_type": "markdown",
   "id": "597302df-7896-47fb-bd0b-79c18011f742",
   "metadata": {},
   "source": [
    "## grad를 함수로 구해보자"
   ]
  },
  {
   "cell_type": "code",
   "execution_count": 46,
   "id": "e7fd8823-6142-40c2-9b84-f1d407e51c08",
   "metadata": {},
   "outputs": [
    {
     "name": "stdout",
     "output_type": "stream",
     "text": [
      "-3.9999999999995595\n"
     ]
    }
   ],
   "source": [
    "def check_grad():\n",
    "    # Layer계산을 반복한다 했을때 다음 h를 넣은 위치에서의 grad를 구할 수 있다.\n",
    "    # layer계산 => h넣고 layer 계산, h를 넣은 위치에서의 grad \n",
    "\n",
    "    # ex) 맨 마지막 node에서는 grad가 1이 나올 수 밖에 없다. (아무 계산이 없으니 그냥 상수항 미분값?)\n",
    "    \n",
    "    h = 0.001\n",
    "    \n",
    "    a = Value(2.0, label='a')\n",
    "    b = Value(-3.0, label='b')\n",
    "    c = Value(10.0, label='c')\n",
    "    e = a*b; e.label = 'e'\n",
    "    d = e + c; d.label = 'd'\n",
    "    f = Value(-2.0, label='f')\n",
    "    L = d*f; L.label=\"L\"\n",
    "    L1 = L.data\n",
    "\n",
    "    a = Value(2.0 , label='a')\n",
    "    b = Value(-3.0+ h, label='b')\n",
    "    c = Value(10.0, label='c')\n",
    "    e = a*b; e.label = 'e'\n",
    "    d = e + c; d.label = 'd'\n",
    "    f = Value(-2.0, label='f')\n",
    "    L = d*f; L.label=\"L\"\n",
    "    L2 = L.data \n",
    "\n",
    "    print((L2 - L1)/h)\n",
    "\n",
    "check_grad()"
   ]
  },
  {
   "cell_type": "markdown",
   "id": "51e02b95-d196-4d0d-b6ad-5c5811ea1c74",
   "metadata": {},
   "source": [
    "즉, L.grad = 1"
   ]
  },
  {
   "cell_type": "markdown",
   "id": "e307dbfa-5259-4477-894e-06fd97e9d831",
   "metadata": {},
   "source": [
    "## grad 직접 계산해서 구해보자"
   ]
  },
  {
   "cell_type": "markdown",
   "id": "575d9a41-7401-4e9e-83eb-ccb4bf250804",
   "metadata": {},
   "source": [
    "## 1. L -> f , d\n",
    "\n",
    "L = d * f"
   ]
  },
  {
   "cell_type": "markdown",
   "id": "ad807ddd-9467-42d6-9f2f-b70c89b8ec77",
   "metadata": {},
   "source": [
    "#### dL/dd = ??\n",
    "\n",
    "=> [기본식] (f(x+h) - f(x)) / h \n",
    "\n",
    "    > f(x+h) = (d+h)*f <br>\n",
    "    > f(x) = (d*f) <br>\n",
    "    \n",
    "=> ((d+h)*f) - (d*f) / h <br>\n",
    "=> (d*f) + (h*f) - (d*f) / h <br>\n",
    "=> (h*f) / h <br>\n",
    "=> f\n",
    "\n",
    "\n",
    "#### dL/df = ??\n",
    "\n",
    "=> [기본식] (f(x+h) - f(x)) / h \n",
    "\n",
    "    > f(x+h) = (f+h)*d <br>\n",
    "    > f(x) = (d*f) <br>\n",
    "    \n",
    "=> ((f+h)*d - (d*f) / h <br>\n",
    "=> (d*f) + (d*h) - (d*f) / h <br>\n",
    "=> (d*h) / h <br>\n",
    "=> d\n"
   ]
  },
  {
   "cell_type": "markdown",
   "id": "f77a3bdf-5bc3-4a47-a397-905da7b707a5",
   "metadata": {},
   "source": [
    "즉,<br>\n",
    "f.grad = 4.00 <br>\n",
    "d.grad = -2.00"
   ]
  },
  {
   "cell_type": "markdown",
   "id": "2eac0754-16d9-4204-a6e7-b2a5002ddb8e",
   "metadata": {},
   "source": [
    "## 2. L -> c, e\n",
    "\n",
    "dL/dc, dL/de를 구하기 위해서는 체인룰 (chain rule) 기법을 사용해야 한다.\n",
    "\n",
    "### 1) dL/dc = dL/dd * dd/dc\n",
    "\n",
    "### 2) dL/de = dL/dd * dd/de"
   ]
  },
  {
   "cell_type": "markdown",
   "id": "75a33daf-ce9c-41d4-8f30-660c25e1fa58",
   "metadata": {},
   "source": [
    "먼저 dd/dc , dd/de를 구해보자\n",
    "\n",
    "d = c + e"
   ]
  },
  {
   "cell_type": "markdown",
   "id": "5ac389ac-0793-4f0d-94b0-2caa79fdaaab",
   "metadata": {},
   "source": [
    "#### dd/dc = ??\n",
    "\n",
    "=> [기본식] (f(x+h) - f(x)) / h \n",
    "\n",
    "    > f(x+h) = (c+h)+e <br>\n",
    "    > f(x) = (c+e) <br>\n",
    "    \n",
    "=> ((c+h)+e - (c+e) / h <br>\n",
    "=> h / h <br>\n",
    "=> 1\n",
    "\n",
    "#### dd/de = ??\n",
    "\n",
    "=> [기본식] (f(x+h) - f(x)) / h \n",
    "\n",
    "    > f(x+h) = (e+h)+c <br>\n",
    "    > f(x) = (c+e) <br>\n",
    "    \n",
    "=> ((e+h)+c - (c+e) / h <br>\n",
    "=> h / h <br>\n",
    "=> 1\n",
    "\n",
    "단순 더하기는 grad가 1이다!.."
   ]
  },
  {
   "cell_type": "markdown",
   "id": "bb3a835f-e0d0-49c7-ab8f-07a18b8d0ab2",
   "metadata": {},
   "source": [
    "위 결과들을 토대로 \n",
    "\n",
    "1) dL/dc = dL/dd * dd/dc\n",
    "\n",
    "    > dL/dd = f <br>\n",
    "    > dd/dc = 1 <br>\n",
    "\n",
    "=> f * 1<br>\n",
    "=> f\n",
    "\n",
    "\n",
    "2) dL/de = dL/dd * dd/de\n",
    "\n",
    "    > dL/dd = f <br>\n",
    "    > dd/de = 1 <br>\n",
    "\n",
    "=> f * 1<br>\n",
    "=> f"
   ]
  },
  {
   "cell_type": "markdown",
   "id": "997d98fb-345c-4b13-b84d-520be7528330",
   "metadata": {},
   "source": [
    "즉,<br>\n",
    "c.grad = -2.00 <br>\n",
    "e.grad = -2.00"
   ]
  },
  {
   "cell_type": "markdown",
   "id": "d89f1774-e3f6-461e-a86c-491a2fe1e7ae",
   "metadata": {},
   "source": [
    "## 3. L -> a, b\n",
    "\n",
    "dL/da, dL/db를 구하기 위해서는 체인룰 (chain rule) 기법을 사용해야 한다.\n",
    "\n",
    "### 1) dL/da = dL/de * de/da\n",
    "\n",
    "### 2) dL/db = dL/de * de/db"
   ]
  },
  {
   "cell_type": "markdown",
   "id": "050765c8-6415-46c6-ae47-85394e77cd50",
   "metadata": {},
   "source": [
    "먼저 de/da , de/db를 구해보자\n",
    "\n",
    "e = a*b"
   ]
  },
  {
   "cell_type": "markdown",
   "id": "6dcf9901-ab77-492c-b8fa-f4c25c07ecfb",
   "metadata": {},
   "source": [
    "#### de/da = ??\n",
    "\n",
    "=> [기본식] (f(x+h) - f(x)) / h \n",
    "\n",
    "    > f(x+h) = (a+h)*b <br>\n",
    "    > f(x) = a*b <br>\n",
    "    \n",
    "=> ((a+h)*b - a*b) / h <br>\n",
    "=> hb / h <br>\n",
    "=> b\n",
    "\n",
    "#### de/db = ??\n",
    "\n",
    "=> [기본식] (f(x+h) - f(x)) / h \n",
    "\n",
    "    > f(x+h) = (b+h)*a <br>\n",
    "    > f(x) = a*b <br>\n",
    "    \n",
    "=> ((b+h)*a - a*b) / h <br>\n",
    "=> ha / h <br>\n",
    "=> a"
   ]
  },
  {
   "cell_type": "markdown",
   "id": "377bfbe3-ce40-43ab-8e5f-7a6425eb7974",
   "metadata": {},
   "source": [
    "위 결과들을 토대로 \n",
    "\n",
    "1) dL/da = dL/de * de/da\n",
    "\n",
    "    > dL/de = f <br>\n",
    "    > de/da = b <br>\n",
    "\n",
    "=> f * b<br>\n",
    "=> -2 * -3 = 6\n",
    "\n",
    "\n",
    "2) dL/db = dL/de * de/db\n",
    "\n",
    "    > dL/de = f <br>\n",
    "    > de/db = a <br>\n",
    "\n",
    "=> f * a<br>\n",
    "=> -2 * 2 = -4"
   ]
  },
  {
   "cell_type": "markdown",
   "id": "2f5452c1-cbd2-49ac-a7ee-c828dfa23d20",
   "metadata": {},
   "source": [
    "즉,<br>\n",
    "a.grad = 6.0 <br>\n",
    "b.grad = -4.0"
   ]
  },
  {
   "cell_type": "markdown",
   "id": "aa632097-b49b-4702-99d4-9279f7e7c6fc",
   "metadata": {},
   "source": [
    "### backprapagation gard 계산 정리\n",
    "\n",
    "- 곱하기 backpropagation (반대방향이라는 조건)\n",
    "\n",
    "    => (상대노드의 data) * (이전 노드의 gard)\n",
    "\n",
    "\n",
    "- 더하기 backpropagation (반대방향이라는 조건)\n",
    "\n",
    "    => (이전 노드의 gard) * 1"
   ]
  },
  {
   "cell_type": "code",
   "execution_count": 47,
   "id": "3567a17d-10d7-40c3-a527-4345fc521161",
   "metadata": {},
   "outputs": [],
   "source": [
    "L.grad = 1.0\n",
    "\n",
    "# 곱하기 backpropagation (반대방향이라는 조건)\n",
    "# (상대노드의 data) * (이전 노드의 gard)\n",
    "f.grad = 4.0    # d.data * L.grad\n",
    "d.grad = -2.0   # f.data * L.grad\n",
    "\n",
    "# 더하기 backpropagation (반대방향이라는 조건)\n",
    "# (이전 노드의 gard) * 1\n",
    "c.grad = -2.0   # d.gard * 1\n",
    "e.grad = -2.0   # d.gard * 1\n",
    "\n",
    "a.grad = 6.0    # b.data * e.grad\n",
    "b.grad = -4.0   # a.data * e.grad"
   ]
  },
  {
   "cell_type": "markdown",
   "id": "ada5120a-d740-454f-9d44-384cb80b01a7",
   "metadata": {},
   "source": [
    "# 정리해 보면\n",
    "\n",
    "# 어떤 노드의 grad = 지금 노드의 연산식을 미분한 값 * 계산 후 의 grad 값"
   ]
  },
  {
   "cell_type": "code",
   "execution_count": 48,
   "id": "67630189-2407-4142-acf1-948725d2ec3f",
   "metadata": {},
   "outputs": [
    {
     "data": {
      "image/svg+xml": [
       "<?xml version=\"1.0\" encoding=\"UTF-8\" standalone=\"no\"?>\n",
       "<!DOCTYPE svg PUBLIC \"-//W3C//DTD SVG 1.1//EN\"\n",
       " \"http://www.w3.org/Graphics/SVG/1.1/DTD/svg11.dtd\">\n",
       "<!-- Generated by graphviz version 2.50.0 (0)\n",
       " -->\n",
       "<!-- Pages: 1 -->\n",
       "<svg width=\"1105pt\" height=\"154pt\"\n",
       " viewBox=\"0.00 0.00 1105.00 154.00\" xmlns=\"http://www.w3.org/2000/svg\" xmlns:xlink=\"http://www.w3.org/1999/xlink\">\n",
       "<g id=\"graph0\" class=\"graph\" transform=\"scale(1 1) rotate(0) translate(4 150)\">\n",
       "<polygon fill=\"white\" stroke=\"transparent\" points=\"-4,4 -4,-150 1101,-150 1101,4 -4,4\"/>\n",
       "<!-- 1745331684352 -->\n",
       "<g id=\"node1\" class=\"node\">\n",
       "<title>1745331684352</title>\n",
       "<polygon fill=\"none\" stroke=\"black\" points=\"616,-54.5 616,-90.5 793,-90.5 793,-54.5 616,-54.5\"/>\n",
       "<text text-anchor=\"middle\" x=\"627.5\" y=\"-68.8\" font-family=\"Times New Roman,serif\" font-size=\"14.00\">d</text>\n",
       "<polyline fill=\"none\" stroke=\"black\" points=\"639,-54.5 639,-90.5 \"/>\n",
       "<text text-anchor=\"middle\" x=\"676\" y=\"-68.8\" font-family=\"Times New Roman,serif\" font-size=\"14.00\">data 4.000</text>\n",
       "<polyline fill=\"none\" stroke=\"black\" points=\"713,-54.5 713,-90.5 \"/>\n",
       "<text text-anchor=\"middle\" x=\"753\" y=\"-68.8\" font-family=\"Times New Roman,serif\" font-size=\"14.00\">grad &#45;2.000</text>\n",
       "</g>\n",
       "<!-- 1745331684736* -->\n",
       "<g id=\"node7\" class=\"node\">\n",
       "<title>1745331684736*</title>\n",
       "<ellipse fill=\"none\" stroke=\"black\" cx=\"856\" cy=\"-99.5\" rx=\"27\" ry=\"18\"/>\n",
       "<text text-anchor=\"middle\" x=\"856\" y=\"-95.8\" font-family=\"Times New Roman,serif\" font-size=\"14.00\">*</text>\n",
       "</g>\n",
       "<!-- 1745331684352&#45;&gt;1745331684736* -->\n",
       "<g id=\"edge4\" class=\"edge\">\n",
       "<title>1745331684352&#45;&gt;1745331684736*</title>\n",
       "<path fill=\"none\" stroke=\"black\" d=\"M793.33,-88.36C802.52,-90.02 811.44,-91.63 819.51,-93.09\"/>\n",
       "<polygon fill=\"black\" stroke=\"black\" points=\"819.11,-96.58 829.58,-94.91 820.36,-89.69 819.11,-96.58\"/>\n",
       "</g>\n",
       "<!-- 1745331684352+ -->\n",
       "<g id=\"node2\" class=\"node\">\n",
       "<title>1745331684352+</title>\n",
       "<ellipse fill=\"none\" stroke=\"black\" cx=\"553\" cy=\"-72.5\" rx=\"27\" ry=\"18\"/>\n",
       "<text text-anchor=\"middle\" x=\"553\" y=\"-68.8\" font-family=\"Times New Roman,serif\" font-size=\"14.00\">+</text>\n",
       "</g>\n",
       "<!-- 1745331684352+&#45;&gt;1745331684352 -->\n",
       "<g id=\"edge1\" class=\"edge\">\n",
       "<title>1745331684352+&#45;&gt;1745331684352</title>\n",
       "<path fill=\"none\" stroke=\"black\" d=\"M580.04,-72.5C587.6,-72.5 596.33,-72.5 605.59,-72.5\"/>\n",
       "<polygon fill=\"black\" stroke=\"black\" points=\"605.81,-76 615.81,-72.5 605.81,-69 605.81,-76\"/>\n",
       "</g>\n",
       "<!-- 1745331686992 -->\n",
       "<g id=\"node3\" class=\"node\">\n",
       "<title>1745331686992</title>\n",
       "<polygon fill=\"none\" stroke=\"black\" points=\"617.5,-109.5 617.5,-145.5 791.5,-145.5 791.5,-109.5 617.5,-109.5\"/>\n",
       "<text text-anchor=\"middle\" x=\"628\" y=\"-123.8\" font-family=\"Times New Roman,serif\" font-size=\"14.00\">f</text>\n",
       "<polyline fill=\"none\" stroke=\"black\" points=\"638.5,-109.5 638.5,-145.5 \"/>\n",
       "<text text-anchor=\"middle\" x=\"677.5\" y=\"-123.8\" font-family=\"Times New Roman,serif\" font-size=\"14.00\">data &#45;2.000</text>\n",
       "<polyline fill=\"none\" stroke=\"black\" points=\"716.5,-109.5 716.5,-145.5 \"/>\n",
       "<text text-anchor=\"middle\" x=\"754\" y=\"-123.8\" font-family=\"Times New Roman,serif\" font-size=\"14.00\">grad 4.000</text>\n",
       "</g>\n",
       "<!-- 1745331686992&#45;&gt;1745331684736* -->\n",
       "<g id=\"edge7\" class=\"edge\">\n",
       "<title>1745331686992&#45;&gt;1745331684736*</title>\n",
       "<path fill=\"none\" stroke=\"black\" d=\"M791.6,-111.37C801.47,-109.53 811.08,-107.73 819.7,-106.11\"/>\n",
       "<polygon fill=\"black\" stroke=\"black\" points=\"820.5,-109.52 829.68,-104.24 819.21,-102.64 820.5,-109.52\"/>\n",
       "</g>\n",
       "<!-- 1745331686560 -->\n",
       "<g id=\"node4\" class=\"node\">\n",
       "<title>1745331686560</title>\n",
       "<polygon fill=\"none\" stroke=\"black\" points=\"307,-82.5 307,-118.5 490,-118.5 490,-82.5 307,-82.5\"/>\n",
       "<text text-anchor=\"middle\" x=\"318.5\" y=\"-96.8\" font-family=\"Times New Roman,serif\" font-size=\"14.00\">c</text>\n",
       "<polyline fill=\"none\" stroke=\"black\" points=\"330,-82.5 330,-118.5 \"/>\n",
       "<text text-anchor=\"middle\" x=\"370\" y=\"-96.8\" font-family=\"Times New Roman,serif\" font-size=\"14.00\">data 10.000</text>\n",
       "<polyline fill=\"none\" stroke=\"black\" points=\"410,-82.5 410,-118.5 \"/>\n",
       "<text text-anchor=\"middle\" x=\"450\" y=\"-96.8\" font-family=\"Times New Roman,serif\" font-size=\"14.00\">grad &#45;2.000</text>\n",
       "</g>\n",
       "<!-- 1745331686560&#45;&gt;1745331684352+ -->\n",
       "<g id=\"edge6\" class=\"edge\">\n",
       "<title>1745331686560&#45;&gt;1745331684352+</title>\n",
       "<path fill=\"none\" stroke=\"black\" d=\"M490.41,-83.81C499.64,-82.11 508.56,-80.48 516.63,-78.99\"/>\n",
       "<polygon fill=\"black\" stroke=\"black\" points=\"517.48,-82.4 526.68,-77.15 516.21,-75.51 517.48,-82.4\"/>\n",
       "</g>\n",
       "<!-- 1745331685696 -->\n",
       "<g id=\"node5\" class=\"node\">\n",
       "<title>1745331685696</title>\n",
       "<polygon fill=\"none\" stroke=\"black\" points=\"0,-55.5 0,-91.5 181,-91.5 181,-55.5 0,-55.5\"/>\n",
       "<text text-anchor=\"middle\" x=\"11.5\" y=\"-69.8\" font-family=\"Times New Roman,serif\" font-size=\"14.00\">b</text>\n",
       "<polyline fill=\"none\" stroke=\"black\" points=\"23,-55.5 23,-91.5 \"/>\n",
       "<text text-anchor=\"middle\" x=\"62\" y=\"-69.8\" font-family=\"Times New Roman,serif\" font-size=\"14.00\">data &#45;3.000</text>\n",
       "<polyline fill=\"none\" stroke=\"black\" points=\"101,-55.5 101,-91.5 \"/>\n",
       "<text text-anchor=\"middle\" x=\"141\" y=\"-69.8\" font-family=\"Times New Roman,serif\" font-size=\"14.00\">grad &#45;4.000</text>\n",
       "</g>\n",
       "<!-- 1745331686272* -->\n",
       "<g id=\"node10\" class=\"node\">\n",
       "<title>1745331686272*</title>\n",
       "<ellipse fill=\"none\" stroke=\"black\" cx=\"244\" cy=\"-45.5\" rx=\"27\" ry=\"18\"/>\n",
       "<text text-anchor=\"middle\" x=\"244\" y=\"-41.8\" font-family=\"Times New Roman,serif\" font-size=\"14.00\">*</text>\n",
       "</g>\n",
       "<!-- 1745331685696&#45;&gt;1745331686272* -->\n",
       "<g id=\"edge8\" class=\"edge\">\n",
       "<title>1745331685696&#45;&gt;1745331686272*</title>\n",
       "<path fill=\"none\" stroke=\"black\" d=\"M181.38,-56.89C190.59,-55.19 199.52,-53.54 207.58,-52.05\"/>\n",
       "<polygon fill=\"black\" stroke=\"black\" points=\"208.44,-55.45 217.64,-50.19 207.17,-48.56 208.44,-55.45\"/>\n",
       "</g>\n",
       "<!-- 1745331684736 -->\n",
       "<g id=\"node6\" class=\"node\">\n",
       "<title>1745331684736</title>\n",
       "<polygon fill=\"none\" stroke=\"black\" points=\"919,-81.5 919,-117.5 1097,-117.5 1097,-81.5 919,-81.5\"/>\n",
       "<text text-anchor=\"middle\" x=\"931.5\" y=\"-95.8\" font-family=\"Times New Roman,serif\" font-size=\"14.00\">L</text>\n",
       "<polyline fill=\"none\" stroke=\"black\" points=\"944,-81.5 944,-117.5 \"/>\n",
       "<text text-anchor=\"middle\" x=\"983\" y=\"-95.8\" font-family=\"Times New Roman,serif\" font-size=\"14.00\">data &#45;8.000</text>\n",
       "<polyline fill=\"none\" stroke=\"black\" points=\"1022,-81.5 1022,-117.5 \"/>\n",
       "<text text-anchor=\"middle\" x=\"1059.5\" y=\"-95.8\" font-family=\"Times New Roman,serif\" font-size=\"14.00\">grad 1.000</text>\n",
       "</g>\n",
       "<!-- 1745331684736*&#45;&gt;1745331684736 -->\n",
       "<g id=\"edge2\" class=\"edge\">\n",
       "<title>1745331684736*&#45;&gt;1745331684736</title>\n",
       "<path fill=\"none\" stroke=\"black\" d=\"M883.13,-99.5C890.65,-99.5 899.33,-99.5 908.54,-99.5\"/>\n",
       "<polygon fill=\"black\" stroke=\"black\" points=\"908.7,-103 918.7,-99.5 908.7,-96 908.7,-103\"/>\n",
       "</g>\n",
       "<!-- 1745331686848 -->\n",
       "<g id=\"node8\" class=\"node\">\n",
       "<title>1745331686848</title>\n",
       "<polygon fill=\"none\" stroke=\"black\" points=\"4.5,-0.5 4.5,-36.5 176.5,-36.5 176.5,-0.5 4.5,-0.5\"/>\n",
       "<text text-anchor=\"middle\" x=\"16\" y=\"-14.8\" font-family=\"Times New Roman,serif\" font-size=\"14.00\">a</text>\n",
       "<polyline fill=\"none\" stroke=\"black\" points=\"27.5,-0.5 27.5,-36.5 \"/>\n",
       "<text text-anchor=\"middle\" x=\"64.5\" y=\"-14.8\" font-family=\"Times New Roman,serif\" font-size=\"14.00\">data 2.000</text>\n",
       "<polyline fill=\"none\" stroke=\"black\" points=\"101.5,-0.5 101.5,-36.5 \"/>\n",
       "<text text-anchor=\"middle\" x=\"139\" y=\"-14.8\" font-family=\"Times New Roman,serif\" font-size=\"14.00\">grad 6.000</text>\n",
       "</g>\n",
       "<!-- 1745331686848&#45;&gt;1745331686272* -->\n",
       "<g id=\"edge9\" class=\"edge\">\n",
       "<title>1745331686848&#45;&gt;1745331686272*</title>\n",
       "<path fill=\"none\" stroke=\"black\" d=\"M176.55,-33.66C187.43,-35.6 198.05,-37.49 207.49,-39.17\"/>\n",
       "<polygon fill=\"black\" stroke=\"black\" points=\"207.15,-42.67 217.61,-40.97 208.38,-35.77 207.15,-42.67\"/>\n",
       "</g>\n",
       "<!-- 1745331686272 -->\n",
       "<g id=\"node9\" class=\"node\">\n",
       "<title>1745331686272</title>\n",
       "<polygon fill=\"none\" stroke=\"black\" points=\"308,-27.5 308,-63.5 489,-63.5 489,-27.5 308,-27.5\"/>\n",
       "<text text-anchor=\"middle\" x=\"319.5\" y=\"-41.8\" font-family=\"Times New Roman,serif\" font-size=\"14.00\">e</text>\n",
       "<polyline fill=\"none\" stroke=\"black\" points=\"331,-27.5 331,-63.5 \"/>\n",
       "<text text-anchor=\"middle\" x=\"370\" y=\"-41.8\" font-family=\"Times New Roman,serif\" font-size=\"14.00\">data &#45;6.000</text>\n",
       "<polyline fill=\"none\" stroke=\"black\" points=\"409,-27.5 409,-63.5 \"/>\n",
       "<text text-anchor=\"middle\" x=\"449\" y=\"-41.8\" font-family=\"Times New Roman,serif\" font-size=\"14.00\">grad &#45;2.000</text>\n",
       "</g>\n",
       "<!-- 1745331686272&#45;&gt;1745331684352+ -->\n",
       "<g id=\"edge5\" class=\"edge\">\n",
       "<title>1745331686272&#45;&gt;1745331684352+</title>\n",
       "<path fill=\"none\" stroke=\"black\" d=\"M489.09,-61.36C498.76,-63.07 508.13,-64.73 516.55,-66.22\"/>\n",
       "<polygon fill=\"black\" stroke=\"black\" points=\"516.22,-69.72 526.67,-68.02 517.44,-62.83 516.22,-69.72\"/>\n",
       "</g>\n",
       "<!-- 1745331686272*&#45;&gt;1745331686272 -->\n",
       "<g id=\"edge3\" class=\"edge\">\n",
       "<title>1745331686272*&#45;&gt;1745331686272</title>\n",
       "<path fill=\"none\" stroke=\"black\" d=\"M271.22,-45.5C278.99,-45.5 288.01,-45.5 297.58,-45.5\"/>\n",
       "<polygon fill=\"black\" stroke=\"black\" points=\"297.72,-49 307.72,-45.5 297.72,-42 297.72,-49\"/>\n",
       "</g>\n",
       "</g>\n",
       "</svg>\n"
      ],
      "text/plain": [
       "<graphviz.graphs.Digraph at 0x1965de18ee0>"
      ]
     },
     "execution_count": 48,
     "metadata": {},
     "output_type": "execute_result"
    }
   ],
   "source": [
    "draw_dot(L)"
   ]
  },
  {
   "cell_type": "markdown",
   "id": "453e5c27-b701-4e98-8b5c-8f509705e571",
   "metadata": {},
   "source": [
    "## 가중치 업데이트 "
   ]
  },
  {
   "cell_type": "code",
   "execution_count": 49,
   "id": "e192c9a1-2b85-40a9-b5d6-b828de5e102a",
   "metadata": {},
   "outputs": [
    {
     "name": "stdout",
     "output_type": "stream",
     "text": [
      "-7.928064095999999\n"
     ]
    }
   ],
   "source": [
    "learning_rate = 0.001\n",
    "\n",
    "a.data += learning_rate * a.grad\n",
    "b.data += learning_rate * b.grad\n",
    "c.data += learning_rate * c.grad\n",
    "f.data += learning_rate * f.grad\n",
    "\n",
    "e = a * b\n",
    "d = e + c\n",
    "L = d * f\n",
    "\n",
    "print(L.data)"
   ]
  },
  {
   "cell_type": "markdown",
   "id": "dff1ce49-f6bb-40b5-858e-7c60a3612362",
   "metadata": {},
   "source": [
    "# 4. 수동 역전파 예시 2 (뉴런)"
   ]
  },
  {
   "cell_type": "markdown",
   "id": "cffee6b7-8f45-4c59-85fc-3e12990b05d1",
   "metadata": {},
   "source": [
    "## 활성화 함수?"
   ]
  },
  {
   "cell_type": "markdown",
   "id": "f5ca53fc-0ca3-4bf3-8ba6-5ac06cde69ea",
   "metadata": {},
   "source": [
    "인간의 뉴런처럼 다른 여러개의 뉴런으로부터 입력값을 받아서 \n",
    "세포체(cell body)에 저장하다가 자신의 용량을 넘어서면 외부로 출력값을 내보내는 것처럼, \n",
    "\n",
    "인공신경망의 뉴런도 여러 입력값을 받아서 일정 수준을 넘어서면 활성화되어 출력값을 내보낸다."
   ]
  },
  {
   "cell_type": "code",
   "execution_count": 50,
   "id": "7b84dbb6-4ae4-4bc2-8fb4-acba4a7a03df",
   "metadata": {},
   "outputs": [
    {
     "data": {
      "image/png": "[encoded data removed]",
      "text/plain": [
       "<Figure size 640x480 with 1 Axes>"
      ]
     },
     "metadata": {},
     "output_type": "display_data"
    }
   ],
   "source": [
    "plt.plot(np.arange(-5,5,0.2), np.tanh(np.arange(-5,5,0.2)));\n",
    "plt.grid();"
   ]
  },
  {
   "cell_type": "code",
   "execution_count": 54,
   "id": "4d92f3d9-da42-4917-a22d-11f7ab48b0f0",
   "metadata": {},
   "outputs": [],
   "source": [
    "# inputs x1, x2\n",
    "x1 = Value(2.0, label='x1')\n",
    "x2 = Value(0.0, label='x2')\n",
    "\n",
    "# weight x1, x2\n",
    "w1 = Value(-3.0, label='w1')\n",
    "w2 = Value(1.0, label='w2')\n",
    "\n",
    "# bias of the neuron\n",
    "b = Value(6.7, label='b')\n",
    "\n",
    "w1x1 = w1 * x1; w1x1.label = \"w1 * x1\"\n",
    "w2x2 = w2 * x2; w2x2.label = \"w2 * x2\"\n",
    "w1x1w2x2 = w1x1 + w2x2; w1x1w2x2.label = \"w1*x1 + w2*x2\"\n",
    "\n",
    "n = w1x1w2x2 + b; n.label = \"n\"\n",
    "\n",
    "# 위 value클래스에 tanh() 함수를 구현!\n",
    "o = n.tanh(); o.label = 'o'"
   ]
  },
  {
   "cell_type": "code",
   "execution_count": 55,
   "id": "20f44902-5748-4eb0-b53f-06d352f801a2",
   "metadata": {},
   "outputs": [
    {
     "data": {
      "image/svg+xml": [
       "<?xml version=\"1.0\" encoding=\"UTF-8\" standalone=\"no\"?>\n",
       "<!DOCTYPE svg PUBLIC \"-//W3C//DTD SVG 1.1//EN\"\n",
       " \"http://www.w3.org/Graphics/SVG/1.1/DTD/svg11.dtd\">\n",
       "<!-- Generated by graphviz version 2.50.0 (0)\n",
       " -->\n",
       "<!-- Pages: 1 -->\n",
       "<svg width=\"1515pt\" height=\"210pt\"\n",
       " viewBox=\"0.00 0.00 1515.00 210.00\" xmlns=\"http://www.w3.org/2000/svg\" xmlns:xlink=\"http://www.w3.org/1999/xlink\">\n",
       "<g id=\"graph0\" class=\"graph\" transform=\"scale(1 1) rotate(0) translate(4 206)\">\n",
       "<polygon fill=\"white\" stroke=\"transparent\" points=\"-4,4 -4,-206 1511,-206 1511,4 -4,4\"/>\n",
       "<!-- 1745331828240 -->\n",
       "<g id=\"node1\" class=\"node\">\n",
       "<title>1745331828240</title>\n",
       "<polygon fill=\"none\" stroke=\"black\" points=\"695.5,-137.5 695.5,-173.5 867.5,-173.5 867.5,-137.5 695.5,-137.5\"/>\n",
       "<text text-anchor=\"middle\" x=\"707\" y=\"-151.8\" font-family=\"Times New Roman,serif\" font-size=\"14.00\">b</text>\n",
       "<polyline fill=\"none\" stroke=\"black\" points=\"718.5,-137.5 718.5,-173.5 \"/>\n",
       "<text text-anchor=\"middle\" x=\"755.5\" y=\"-151.8\" font-family=\"Times New Roman,serif\" font-size=\"14.00\">data 6.700</text>\n",
       "<polyline fill=\"none\" stroke=\"black\" points=\"792.5,-137.5 792.5,-173.5 \"/>\n",
       "<text text-anchor=\"middle\" x=\"830\" y=\"-151.8\" font-family=\"Times New Roman,serif\" font-size=\"14.00\">grad 0.000</text>\n",
       "</g>\n",
       "<!-- 1745331830544+ -->\n",
       "<g id=\"node9\" class=\"node\">\n",
       "<title>1745331830544+</title>\n",
       "<ellipse fill=\"none\" stroke=\"black\" cx=\"974\" cy=\"-127.5\" rx=\"27\" ry=\"18\"/>\n",
       "<text text-anchor=\"middle\" x=\"974\" y=\"-123.8\" font-family=\"Times New Roman,serif\" font-size=\"14.00\">+</text>\n",
       "</g>\n",
       "<!-- 1745331828240&#45;&gt;1745331830544+ -->\n",
       "<g id=\"edge8\" class=\"edge\">\n",
       "<title>1745331828240&#45;&gt;1745331830544+</title>\n",
       "<path fill=\"none\" stroke=\"black\" d=\"M867.72,-142.97C892.24,-139.37 917.66,-135.63 937.37,-132.74\"/>\n",
       "<polygon fill=\"black\" stroke=\"black\" points=\"938.03,-136.18 947.41,-131.26 937.01,-129.25 938.03,-136.18\"/>\n",
       "</g>\n",
       "<!-- 1745331829776 -->\n",
       "<g id=\"node2\" class=\"node\">\n",
       "<title>1745331829776</title>\n",
       "<polygon fill=\"none\" stroke=\"black\" points=\"314,-110.5 314,-146.5 524,-146.5 524,-110.5 314,-110.5\"/>\n",
       "<text text-anchor=\"middle\" x=\"344.5\" y=\"-124.8\" font-family=\"Times New Roman,serif\" font-size=\"14.00\">w2 * x2</text>\n",
       "<polyline fill=\"none\" stroke=\"black\" points=\"375,-110.5 375,-146.5 \"/>\n",
       "<text text-anchor=\"middle\" x=\"412\" y=\"-124.8\" font-family=\"Times New Roman,serif\" font-size=\"14.00\">data 0.000</text>\n",
       "<polyline fill=\"none\" stroke=\"black\" points=\"449,-110.5 449,-146.5 \"/>\n",
       "<text text-anchor=\"middle\" x=\"486.5\" y=\"-124.8\" font-family=\"Times New Roman,serif\" font-size=\"14.00\">grad 0.000</text>\n",
       "</g>\n",
       "<!-- 1745331828576+ -->\n",
       "<g id=\"node14\" class=\"node\">\n",
       "<title>1745331828576+</title>\n",
       "<ellipse fill=\"none\" stroke=\"black\" cx=\"589\" cy=\"-100.5\" rx=\"27\" ry=\"18\"/>\n",
       "<text text-anchor=\"middle\" x=\"589\" y=\"-96.8\" font-family=\"Times New Roman,serif\" font-size=\"14.00\">+</text>\n",
       "</g>\n",
       "<!-- 1745331829776&#45;&gt;1745331828576+ -->\n",
       "<g id=\"edge10\" class=\"edge\">\n",
       "<title>1745331829776&#45;&gt;1745331828576+</title>\n",
       "<path fill=\"none\" stroke=\"black\" d=\"M524.01,-111.17C534.12,-109.48 543.83,-107.86 552.49,-106.42\"/>\n",
       "<polygon fill=\"black\" stroke=\"black\" points=\"553.2,-109.85 562.49,-104.75 552.05,-102.94 553.2,-109.85\"/>\n",
       "</g>\n",
       "<!-- 1745331829776* -->\n",
       "<g id=\"node3\" class=\"node\">\n",
       "<title>1745331829776*</title>\n",
       "<ellipse fill=\"none\" stroke=\"black\" cx=\"249\" cy=\"-128.5\" rx=\"27\" ry=\"18\"/>\n",
       "<text text-anchor=\"middle\" x=\"249\" y=\"-124.8\" font-family=\"Times New Roman,serif\" font-size=\"14.00\">*</text>\n",
       "</g>\n",
       "<!-- 1745331829776*&#45;&gt;1745331829776 -->\n",
       "<g id=\"edge1\" class=\"edge\">\n",
       "<title>1745331829776*&#45;&gt;1745331829776</title>\n",
       "<path fill=\"none\" stroke=\"black\" d=\"M276.25,-128.5C284.28,-128.5 293.67,-128.5 303.73,-128.5\"/>\n",
       "<polygon fill=\"black\" stroke=\"black\" points=\"303.99,-132 313.99,-128.5 303.99,-125 303.99,-132\"/>\n",
       "</g>\n",
       "<!-- 1745331827328 -->\n",
       "<g id=\"node4\" class=\"node\">\n",
       "<title>1745331827328</title>\n",
       "<polygon fill=\"none\" stroke=\"black\" points=\"312,-55.5 312,-91.5 526,-91.5 526,-55.5 312,-55.5\"/>\n",
       "<text text-anchor=\"middle\" x=\"342.5\" y=\"-69.8\" font-family=\"Times New Roman,serif\" font-size=\"14.00\">w1 * x1</text>\n",
       "<polyline fill=\"none\" stroke=\"black\" points=\"373,-55.5 373,-91.5 \"/>\n",
       "<text text-anchor=\"middle\" x=\"412\" y=\"-69.8\" font-family=\"Times New Roman,serif\" font-size=\"14.00\">data &#45;6.000</text>\n",
       "<polyline fill=\"none\" stroke=\"black\" points=\"451,-55.5 451,-91.5 \"/>\n",
       "<text text-anchor=\"middle\" x=\"488.5\" y=\"-69.8\" font-family=\"Times New Roman,serif\" font-size=\"14.00\">grad 0.000</text>\n",
       "</g>\n",
       "<!-- 1745331827328&#45;&gt;1745331828576+ -->\n",
       "<g id=\"edge9\" class=\"edge\">\n",
       "<title>1745331827328&#45;&gt;1745331828576+</title>\n",
       "<path fill=\"none\" stroke=\"black\" d=\"M526.4,-90.6C535.72,-92.1 544.65,-93.53 552.68,-94.82\"/>\n",
       "<polygon fill=\"black\" stroke=\"black\" points=\"552.24,-98.3 562.66,-96.43 553.35,-91.39 552.24,-98.3\"/>\n",
       "</g>\n",
       "<!-- 1745331827328* -->\n",
       "<g id=\"node5\" class=\"node\">\n",
       "<title>1745331827328*</title>\n",
       "<ellipse fill=\"none\" stroke=\"black\" cx=\"249\" cy=\"-73.5\" rx=\"27\" ry=\"18\"/>\n",
       "<text text-anchor=\"middle\" x=\"249\" y=\"-69.8\" font-family=\"Times New Roman,serif\" font-size=\"14.00\">*</text>\n",
       "</g>\n",
       "<!-- 1745331827328*&#45;&gt;1745331827328 -->\n",
       "<g id=\"edge2\" class=\"edge\">\n",
       "<title>1745331827328*&#45;&gt;1745331827328</title>\n",
       "<path fill=\"none\" stroke=\"black\" d=\"M276.25,-73.5C283.7,-73.5 292.34,-73.5 301.59,-73.5\"/>\n",
       "<polygon fill=\"black\" stroke=\"black\" points=\"301.84,-77 311.84,-73.5 301.84,-70 301.84,-77\"/>\n",
       "</g>\n",
       "<!-- 1745331826848 -->\n",
       "<g id=\"node6\" class=\"node\">\n",
       "<title>1745331826848</title>\n",
       "<polygon fill=\"none\" stroke=\"black\" points=\"2,-165.5 2,-201.5 184,-201.5 184,-165.5 2,-165.5\"/>\n",
       "<text text-anchor=\"middle\" x=\"18.5\" y=\"-179.8\" font-family=\"Times New Roman,serif\" font-size=\"14.00\">w2</text>\n",
       "<polyline fill=\"none\" stroke=\"black\" points=\"35,-165.5 35,-201.5 \"/>\n",
       "<text text-anchor=\"middle\" x=\"72\" y=\"-179.8\" font-family=\"Times New Roman,serif\" font-size=\"14.00\">data 1.000</text>\n",
       "<polyline fill=\"none\" stroke=\"black\" points=\"109,-165.5 109,-201.5 \"/>\n",
       "<text text-anchor=\"middle\" x=\"146.5\" y=\"-179.8\" font-family=\"Times New Roman,serif\" font-size=\"14.00\">grad 0.000</text>\n",
       "</g>\n",
       "<!-- 1745331826848&#45;&gt;1745331829776* -->\n",
       "<g id=\"edge14\" class=\"edge\">\n",
       "<title>1745331826848&#45;&gt;1745331829776*</title>\n",
       "<path fill=\"none\" stroke=\"black\" d=\"M159.7,-165.43C168.6,-162.63 177.57,-159.62 186,-156.5 196.49,-152.61 207.71,-147.77 217.68,-143.21\"/>\n",
       "<polygon fill=\"black\" stroke=\"black\" points=\"219.2,-146.36 226.79,-138.96 216.24,-140.01 219.2,-146.36\"/>\n",
       "</g>\n",
       "<!-- 1745331829440 -->\n",
       "<g id=\"node7\" class=\"node\">\n",
       "<title>1745331829440</title>\n",
       "<polygon fill=\"none\" stroke=\"black\" points=\"0,-55.5 0,-91.5 186,-91.5 186,-55.5 0,-55.5\"/>\n",
       "<text text-anchor=\"middle\" x=\"16.5\" y=\"-69.8\" font-family=\"Times New Roman,serif\" font-size=\"14.00\">w1</text>\n",
       "<polyline fill=\"none\" stroke=\"black\" points=\"33,-55.5 33,-91.5 \"/>\n",
       "<text text-anchor=\"middle\" x=\"72\" y=\"-69.8\" font-family=\"Times New Roman,serif\" font-size=\"14.00\">data &#45;3.000</text>\n",
       "<polyline fill=\"none\" stroke=\"black\" points=\"111,-55.5 111,-91.5 \"/>\n",
       "<text text-anchor=\"middle\" x=\"148.5\" y=\"-69.8\" font-family=\"Times New Roman,serif\" font-size=\"14.00\">grad 0.000</text>\n",
       "</g>\n",
       "<!-- 1745331829440&#45;&gt;1745331827328* -->\n",
       "<g id=\"edge13\" class=\"edge\">\n",
       "<title>1745331829440&#45;&gt;1745331827328*</title>\n",
       "<path fill=\"none\" stroke=\"black\" d=\"M186.25,-73.5C195.15,-73.5 203.76,-73.5 211.59,-73.5\"/>\n",
       "<polygon fill=\"black\" stroke=\"black\" points=\"211.73,-77 221.73,-73.5 211.73,-70 211.73,-77\"/>\n",
       "</g>\n",
       "<!-- 1745331830544 -->\n",
       "<g id=\"node8\" class=\"node\">\n",
       "<title>1745331830544</title>\n",
       "<polygon fill=\"none\" stroke=\"black\" points=\"1037,-109.5 1037,-145.5 1209,-145.5 1209,-109.5 1037,-109.5\"/>\n",
       "<text text-anchor=\"middle\" x=\"1048.5\" y=\"-123.8\" font-family=\"Times New Roman,serif\" font-size=\"14.00\">n</text>\n",
       "<polyline fill=\"none\" stroke=\"black\" points=\"1060,-109.5 1060,-145.5 \"/>\n",
       "<text text-anchor=\"middle\" x=\"1097\" y=\"-123.8\" font-family=\"Times New Roman,serif\" font-size=\"14.00\">data 0.700</text>\n",
       "<polyline fill=\"none\" stroke=\"black\" points=\"1134,-109.5 1134,-145.5 \"/>\n",
       "<text text-anchor=\"middle\" x=\"1171.5\" y=\"-123.8\" font-family=\"Times New Roman,serif\" font-size=\"14.00\">grad 0.000</text>\n",
       "</g>\n",
       "<!-- 1745331828528tanh -->\n",
       "<g id=\"node12\" class=\"node\">\n",
       "<title>1745331828528tanh</title>\n",
       "<ellipse fill=\"none\" stroke=\"black\" cx=\"1272\" cy=\"-127.5\" rx=\"27\" ry=\"18\"/>\n",
       "<text text-anchor=\"middle\" x=\"1272\" y=\"-123.8\" font-family=\"Times New Roman,serif\" font-size=\"14.00\">tanh</text>\n",
       "</g>\n",
       "<!-- 1745331830544&#45;&gt;1745331828528tanh -->\n",
       "<g id=\"edge11\" class=\"edge\">\n",
       "<title>1745331830544&#45;&gt;1745331828528tanh</title>\n",
       "<path fill=\"none\" stroke=\"black\" d=\"M1209.08,-127.5C1217.99,-127.5 1226.66,-127.5 1234.56,-127.5\"/>\n",
       "<polygon fill=\"black\" stroke=\"black\" points=\"1234.8,-131 1244.8,-127.5 1234.8,-124 1234.8,-131\"/>\n",
       "</g>\n",
       "<!-- 1745331830544+&#45;&gt;1745331830544 -->\n",
       "<g id=\"edge3\" class=\"edge\">\n",
       "<title>1745331830544+&#45;&gt;1745331830544</title>\n",
       "<path fill=\"none\" stroke=\"black\" d=\"M1001.28,-127.5C1008.8,-127.5 1017.46,-127.5 1026.63,-127.5\"/>\n",
       "<polygon fill=\"black\" stroke=\"black\" points=\"1026.74,-131 1036.74,-127.5 1026.74,-124 1026.74,-131\"/>\n",
       "</g>\n",
       "<!-- 1745331828000 -->\n",
       "<g id=\"node10\" class=\"node\">\n",
       "<title>1745331828000</title>\n",
       "<polygon fill=\"none\" stroke=\"black\" points=\"3.5,-0.5 3.5,-36.5 182.5,-36.5 182.5,-0.5 3.5,-0.5\"/>\n",
       "<text text-anchor=\"middle\" x=\"18.5\" y=\"-14.8\" font-family=\"Times New Roman,serif\" font-size=\"14.00\">x1</text>\n",
       "<polyline fill=\"none\" stroke=\"black\" points=\"33.5,-0.5 33.5,-36.5 \"/>\n",
       "<text text-anchor=\"middle\" x=\"70.5\" y=\"-14.8\" font-family=\"Times New Roman,serif\" font-size=\"14.00\">data 2.000</text>\n",
       "<polyline fill=\"none\" stroke=\"black\" points=\"107.5,-0.5 107.5,-36.5 \"/>\n",
       "<text text-anchor=\"middle\" x=\"145\" y=\"-14.8\" font-family=\"Times New Roman,serif\" font-size=\"14.00\">grad 0.000</text>\n",
       "</g>\n",
       "<!-- 1745331828000&#45;&gt;1745331827328* -->\n",
       "<g id=\"edge12\" class=\"edge\">\n",
       "<title>1745331828000&#45;&gt;1745331827328*</title>\n",
       "<path fill=\"none\" stroke=\"black\" d=\"M156.68,-36.52C166.55,-39.66 176.6,-43.04 186,-46.5 196.24,-50.28 207.23,-54.87 217.06,-59.19\"/>\n",
       "<polygon fill=\"black\" stroke=\"black\" points=\"215.88,-62.5 226.44,-63.38 218.74,-56.11 215.88,-62.5\"/>\n",
       "</g>\n",
       "<!-- 1745331828528 -->\n",
       "<g id=\"node11\" class=\"node\">\n",
       "<title>1745331828528</title>\n",
       "<polygon fill=\"none\" stroke=\"black\" points=\"1335,-109.5 1335,-145.5 1507,-145.5 1507,-109.5 1335,-109.5\"/>\n",
       "<text text-anchor=\"middle\" x=\"1346.5\" y=\"-123.8\" font-family=\"Times New Roman,serif\" font-size=\"14.00\">o</text>\n",
       "<polyline fill=\"none\" stroke=\"black\" points=\"1358,-109.5 1358,-145.5 \"/>\n",
       "<text text-anchor=\"middle\" x=\"1395\" y=\"-123.8\" font-family=\"Times New Roman,serif\" font-size=\"14.00\">data 0.604</text>\n",
       "<polyline fill=\"none\" stroke=\"black\" points=\"1432,-109.5 1432,-145.5 \"/>\n",
       "<text text-anchor=\"middle\" x=\"1469.5\" y=\"-123.8\" font-family=\"Times New Roman,serif\" font-size=\"14.00\">grad 0.000</text>\n",
       "</g>\n",
       "<!-- 1745331828528tanh&#45;&gt;1745331828528 -->\n",
       "<g id=\"edge4\" class=\"edge\">\n",
       "<title>1745331828528tanh&#45;&gt;1745331828528</title>\n",
       "<path fill=\"none\" stroke=\"black\" d=\"M1299.28,-127.5C1306.8,-127.5 1315.46,-127.5 1324.63,-127.5\"/>\n",
       "<polygon fill=\"black\" stroke=\"black\" points=\"1324.74,-131 1334.74,-127.5 1324.74,-124 1324.74,-131\"/>\n",
       "</g>\n",
       "<!-- 1745331828576 -->\n",
       "<g id=\"node13\" class=\"node\">\n",
       "<title>1745331828576</title>\n",
       "<polygon fill=\"none\" stroke=\"black\" points=\"652,-82.5 652,-118.5 911,-118.5 911,-82.5 652,-82.5\"/>\n",
       "<text text-anchor=\"middle\" x=\"705\" y=\"-96.8\" font-family=\"Times New Roman,serif\" font-size=\"14.00\">w1*x1 + w2*x2</text>\n",
       "<polyline fill=\"none\" stroke=\"black\" points=\"758,-82.5 758,-118.5 \"/>\n",
       "<text text-anchor=\"middle\" x=\"797\" y=\"-96.8\" font-family=\"Times New Roman,serif\" font-size=\"14.00\">data &#45;6.000</text>\n",
       "<polyline fill=\"none\" stroke=\"black\" points=\"836,-82.5 836,-118.5 \"/>\n",
       "<text text-anchor=\"middle\" x=\"873.5\" y=\"-96.8\" font-family=\"Times New Roman,serif\" font-size=\"14.00\">grad 0.000</text>\n",
       "</g>\n",
       "<!-- 1745331828576&#45;&gt;1745331830544+ -->\n",
       "<g id=\"edge6\" class=\"edge\">\n",
       "<title>1745331828576&#45;&gt;1745331830544+</title>\n",
       "<path fill=\"none\" stroke=\"black\" d=\"M909.57,-118.51C919.55,-119.92 929,-121.26 937.42,-122.46\"/>\n",
       "<polygon fill=\"black\" stroke=\"black\" points=\"937.09,-125.95 947.48,-123.88 938.07,-119.01 937.09,-125.95\"/>\n",
       "</g>\n",
       "<!-- 1745331828576+&#45;&gt;1745331828576 -->\n",
       "<g id=\"edge5\" class=\"edge\">\n",
       "<title>1745331828576+&#45;&gt;1745331828576</title>\n",
       "<path fill=\"none\" stroke=\"black\" d=\"M616.09,-100.5C623.58,-100.5 632.3,-100.5 641.75,-100.5\"/>\n",
       "<polygon fill=\"black\" stroke=\"black\" points=\"641.84,-104 651.84,-100.5 641.84,-97 641.84,-104\"/>\n",
       "</g>\n",
       "<!-- 1745331830688 -->\n",
       "<g id=\"node15\" class=\"node\">\n",
       "<title>1745331830688</title>\n",
       "<polygon fill=\"none\" stroke=\"black\" points=\"3.5,-110.5 3.5,-146.5 182.5,-146.5 182.5,-110.5 3.5,-110.5\"/>\n",
       "<text text-anchor=\"middle\" x=\"18.5\" y=\"-124.8\" font-family=\"Times New Roman,serif\" font-size=\"14.00\">x2</text>\n",
       "<polyline fill=\"none\" stroke=\"black\" points=\"33.5,-110.5 33.5,-146.5 \"/>\n",
       "<text text-anchor=\"middle\" x=\"70.5\" y=\"-124.8\" font-family=\"Times New Roman,serif\" font-size=\"14.00\">data 0.000</text>\n",
       "<polyline fill=\"none\" stroke=\"black\" points=\"107.5,-110.5 107.5,-146.5 \"/>\n",
       "<text text-anchor=\"middle\" x=\"145\" y=\"-124.8\" font-family=\"Times New Roman,serif\" font-size=\"14.00\">grad 0.000</text>\n",
       "</g>\n",
       "<!-- 1745331830688&#45;&gt;1745331829776* -->\n",
       "<g id=\"edge7\" class=\"edge\">\n",
       "<title>1745331830688&#45;&gt;1745331829776*</title>\n",
       "<path fill=\"none\" stroke=\"black\" d=\"M182.69,-128.5C192.86,-128.5 202.76,-128.5 211.64,-128.5\"/>\n",
       "<polygon fill=\"black\" stroke=\"black\" points=\"211.92,-132 221.92,-128.5 211.92,-125 211.92,-132\"/>\n",
       "</g>\n",
       "</g>\n",
       "</svg>\n"
      ],
      "text/plain": [
       "<graphviz.graphs.Digraph at 0x1965de0ddc0>"
      ]
     },
     "execution_count": 55,
     "metadata": {},
     "output_type": "execute_result"
    }
   ],
   "source": [
    "draw_dot(o)"
   ]
  },
  {
   "cell_type": "code",
   "execution_count": null,
   "id": "911abfb8-da58-49a4-aa52-11563312c382",
   "metadata": {},
   "outputs": [],
   "source": [
    "# 위 과정 backpropagation grad 연산\n",
    "\n",
    "\n",
    "# 맨 마지막 grad = 1\n",
    "o.grad = 1.0\n",
    "\n",
    "\n",
    "# tanh의 미분\n",
    "# 1 - tanh(x)**2\n",
    "# do/dn = 1 - o**2\n",
    "n.grad = (1 - o.data**2)\n",
    "\n",
    "\n",
    "# 더하기 연산\n",
    "w1x1w2x2.grad = n.grad * 1\n",
    "b.grad = n.grad * 1\n",
    "\n",
    "\n",
    "# 또 더하기 \n",
    "w1x1.grad = w1x1w2x2 * 1\n",
    "w2x2.grad = w1x1w2x2 * 1\n",
    "\n",
    "\n",
    "# 곱하기 \n",
    "w1.grad = x1.data * w1x1.grad\n",
    "x1.grad = w1.data * w1x1.grad\n",
    "\n",
    "w2.grad = x2.data * w2x2.grad\n",
    "x2.grad = w2.data * w2x2.grad"
   ]
  },
  {
   "cell_type": "code",
   "execution_count": null,
   "id": "a30ac678-2ce2-4325-9e87-2ba965b8357f",
   "metadata": {},
   "outputs": [],
   "source": []
  },
  {
   "cell_type": "code",
   "execution_count": null,
   "id": "0e5206e3-819b-4cf3-a768-3a7afc24b690",
   "metadata": {},
   "outputs": [],
   "source": []
  },
  {
   "cell_type": "code",
   "execution_count": null,
   "id": "6f771b51-7c36-4667-9d4a-35bfc175b906",
   "metadata": {},
   "outputs": [],
   "source": []
  },
  {
   "cell_type": "markdown",
   "id": "39d51189-5bc3-4aee-b81f-0c381c40d8ba",
   "metadata": {},
   "source": [
    "# 5. backward function 구현\n",
    "\n",
    "위 value 클래스에 backward 변수와 backward 함수를 구현한다"
   ]
  },
  {
   "cell_type": "code",
   "execution_count": null,
   "id": "8cf6664d-44ec-498a-84e4-d82dc02963ed",
   "metadata": {},
   "outputs": [],
   "source": []
  }
 ],
 "metadata": {
  "kernelspec": {
   "display_name": "ds_study",
   "language": "python",
   "name": "ds_study"
  },
  "language_info": {
   "codemirror_mode": {
    "name": "ipython",
    "version": 3
   },
   "file_extension": ".py",
   "mimetype": "text/x-python",
   "name": "python",
   "nbconvert_exporter": "python",
   "pygments_lexer": "ipython3",
   "version": "3.8.12"
  }
 },
 "nbformat": 4,
 "nbformat_minor": 5
}
